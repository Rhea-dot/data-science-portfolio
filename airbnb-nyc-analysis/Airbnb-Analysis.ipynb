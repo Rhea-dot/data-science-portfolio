{
 "cells": [
  {
   "cell_type": "markdown",
   "id": "b5601f9a",
   "metadata": {},
   "source": [
    "### First step: data exploration\n",
    "As the initial step of data exploration, only the first two rows of the dataset are loaded to gain an initial overview of the data's structure and format. This approach deliberately utilizes a stream-based reader to avoid loading the entire dataset into memory. This method significantly optimizes processing time and enhances computational efficiency."
   ]
  },
  {
   "cell_type": "code",
   "execution_count": 5,
   "id": "05819906",
   "metadata": {},
   "outputs": [
    {
     "name": "stdout",
     "output_type": "stream",
     "text": [
      "['id', 'name', 'host_id', 'host_name', 'neighbourhood_group', 'neighbourhood', 'latitude', 'longitude', 'room_type', 'price', 'minimum_nights', 'number_of_reviews', 'last_review', 'reviews_per_month', 'calculated_host_listings_count', 'availability_365']\n",
      "['2539', 'Clean & quiet apt home by the park', '2787', 'John', 'Brooklyn', 'Kensington', '40.64749', '-73.97237', 'Private room', '149', '1', '9', '2018-10-19', '0.21', '6', '365']\n"
     ]
    }
   ],
   "source": [
    "import csv\n",
    "\n",
    "data = []\n",
    "\n",
    "with open(r'C:\\Users\\yamid\\Documents\\Persönliche Übungen\\archive\\AB_NYC_2019.csv', 'r') as file: # \\ is reserved for special control characters\n",
    "    reader = csv.reader(file) # reads one line, converts to list\n",
    "\n",
    "    for i, row in enumerate(reader):\n",
    "        if i > 1:\n",
    "            break\n",
    "        data.append(row)\n",
    "\n",
    "\n",
    "for row in data:\n",
    "    print(row)  "
   ]
  },
  {
   "cell_type": "markdown",
   "id": "8b74f64f",
   "metadata": {},
   "source": [
    "Next I want to examine the data.Therefore I am useing the Pandas library. The computation time of the pandas library is longer than that of the numpy library, however the pandas library is particularly helpful for datasets that consist of strings and numbers and are strongly heterogeneously structured. "
   ]
  },
  {
   "cell_type": "code",
   "execution_count": 20,
   "id": "079d1712",
   "metadata": {},
   "outputs": [
    {
     "name": "stdout",
     "output_type": "stream",
     "text": [
      "Min: 0$\n",
      "Max: 10000$\n",
      "Mean: 152.72$\n",
      "Median: 106.0$\n",
      " \n",
      "Most common district: Manhattan, 21661\n",
      "Least common district: Staten Island, 373\n",
      " \n"
     ]
    }
   ],
   "source": [
    "import pandas as pd\n",
    "import numpy as np\n",
    "import importlib\n",
    "import Airbnb_tools\n",
    "\n",
    "file_path = 'C:\\\\Users\\\\yamid\\\\Documents\\\\Persönliche Übungen\\\\archive\\\\AB_NYC_2019.csv'\n",
    "importlib.reload(Airbnb_tools)\n",
    "\n",
    "def main():\n",
    "\n",
    "    df = pd.read_csv(file_path) # converts in to dataframe with appropriate data type (string, float)\n",
    "\n",
    "    prices_series = df['price'] # extracts the column with the prices\n",
    "    prices(prices_series)\n",
    "\n",
    "    district = df['neighbourhood_group']\n",
    "    city_district(district)\n",
    "\n",
    "\n",
    "\n",
    "def prices(prices_series):\n",
    "\n",
    "    prices_np = prices_series.to_numpy() # converts pandas series to numpy array\n",
    "    min = np.min(prices_np) \n",
    "    max = np.max(prices_np) \n",
    "    mean = np.mean(prices_np)\n",
    "    median = Airbnb_tools.median_R(prices_np) \n",
    "\n",
    "    print(f\"Min: {min}$\")\n",
    "    print(f\"Max: {max}$\")\n",
    "    print(f\"Mean: {mean:.2f}$\")\n",
    "    print(f\"Median: {median}$\")\n",
    "    print(' ')\n",
    "\n",
    "\n",
    "def city_district(district_series):\n",
    "\n",
    "    max_mode, max_frequency, min_mode, min_frequency = Airbnb_tools.frequency_R(district_series)\n",
    "\n",
    "    print(f\"Most common district: {max_mode}, {max_frequency}\")\n",
    "    print(f\"Least common district: {min_mode}, {min_frequency}\")\n",
    "    print(' ')\n",
    "\n",
    "\n",
    "if __name__ == \"__main__\":\n",
    "    main()"
   ]
  }
 ],
 "metadata": {
  "kernelspec": {
   "display_name": "Python 3",
   "language": "python",
   "name": "python3"
  },
  "language_info": {
   "codemirror_mode": {
    "name": "ipython",
    "version": 3
   },
   "file_extension": ".py",
   "mimetype": "text/x-python",
   "name": "python",
   "nbconvert_exporter": "python",
   "pygments_lexer": "ipython3",
   "version": "3.13.3"
  }
 },
 "nbformat": 4,
 "nbformat_minor": 5
}
